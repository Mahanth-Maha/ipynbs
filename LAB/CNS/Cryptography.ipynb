{
 "cells": [
  {
   "cell_type": "markdown",
   "metadata": {},
   "source": [
    "# Cryptographic Algorithms - Encryption and Decryption"
   ]
  },
  {
   "cell_type": "markdown",
   "metadata": {},
   "source": [
    "### Ceaser Cipher\n",
    "Encryption & Decryption"
   ]
  },
  {
   "cell_type": "code",
   "execution_count": 1,
   "metadata": {},
   "outputs": [
    {
     "data": {
      "text/plain": [
       "'XYZA'"
      ]
     },
     "execution_count": 1,
     "metadata": {},
     "output_type": "execute_result"
    }
   ],
   "source": [
    "def ceaser_encrypt(msg,ceaser_key=3):\n",
    "    msg_l = list(msg)\n",
    "    out = ''\n",
    "    for i in msg_l:\n",
    "        out += chr((ord(i) - 65 + ceaser_key) % 26 + 65 )\n",
    "    return out\n",
    "\n",
    "def ceaser_decrypt(msg,ceaser_key=3):\n",
    "    msg_l = list(msg)\n",
    "    out = ''\n",
    "    for i in msg_l:\n",
    "        out += chr((ord(i) - 65 - ceaser_key)%26 + 65 )\n",
    "    return out\n",
    "\n",
    "ceaser_decrypt( ceaser_encrypt('XYZA') )\n",
    "# ceaser_encrypt('XYZA')"
   ]
  },
  {
   "cell_type": "markdown",
   "metadata": {},
   "source": [
    "### Affine Cipher\n",
    "Encryption & Decryption"
   ]
  },
  {
   "cell_type": "code",
   "execution_count": 49,
   "metadata": {},
   "outputs": [
    {
     "data": {
      "text/plain": [
       "'XYZA'"
      ]
     },
     "execution_count": 49,
     "metadata": {},
     "output_type": "execute_result"
    }
   ],
   "source": [
    "def affine_encrypt(msg,key_a=7,key_b=3):\n",
    "    msg_l = list(msg)\n",
    "    out = ''\n",
    "    for i in msg_l:\n",
    "        out += chr(((ord(i) - 65)*key_a + key_b) % 26 + 65 )\n",
    "    return out\n",
    "\n",
    "def affine_decrypt(msg,key_a=15,key_b=3):\n",
    "    msg_l = list(msg)\n",
    "    out = ''\n",
    "    for i in msg_l:\n",
    "        out += chr( (key_a * (ord(i) - 65 - key_b))%26 + 65 )\n",
    "    return out\n",
    "\n",
    "affine_decrypt( affine_encrypt('XYZA') )\n"
   ]
  },
  {
   "cell_type": "markdown",
   "metadata": {},
   "source": [
    "### Playfair Cipher\n",
    "Encryption & Decryption"
   ]
  },
  {
   "cell_type": "code",
   "execution_count": 48,
   "metadata": {},
   "outputs": [
    {
     "name": "stdout",
     "output_type": "stream",
     "text": [
      "['E', 'T', 'H', 'I', 'C', 'S', 'A', 'B', 'D', 'F', 'G', 'K', 'L', 'M', 'N', 'O', 'P', 'Q', 'R', 'U', 'V', 'W', 'X', 'Y', 'Z']\n"
     ]
    },
    {
     "data": {
      "text/plain": [
       "''"
      ]
     },
     "execution_count": 48,
     "metadata": {},
     "output_type": "execute_result"
    }
   ],
   "source": [
    "def di_graph(msg):\n",
    "    msg_l = list(msg)\n",
    "    while ' ' in msg_l:\n",
    "        msg_l.remove(' ')\n",
    "    f = 1\n",
    "    di_graph = []\n",
    "    prev = ''\n",
    "    for i in range(len(msg_l)):\n",
    "        if f == 1:\n",
    "            prev = msg_l[i]\n",
    "            f = 0\n",
    "        else:\n",
    "            di_graph.append(prev + msg_l[i])\n",
    "            f = 1\n",
    "    if prev != '':\n",
    "        di_graph.append(prev + 'X')\n",
    "    return di_graph\n",
    "\n",
    "def playfair_key_gen(key):\n",
    "    k = [['']*5 for i in range(5)]\n",
    "    p = 0\n",
    "    exclude = [ ord(i) for i in list(key) ]\n",
    "    exclude.append(ord('J'))\n",
    "    r = 0\n",
    "    fill_key = list(set([i for i in range(ord('A'),ord('Z')+1)]) - set(exclude) )\n",
    "    for i in range(5):\n",
    "        for j in range(5):\n",
    "            if p < len(key):\n",
    "                k[i][j] = key[p]\n",
    "                p+=1\n",
    "            elif r < len(fill_key) :\n",
    "                k[i][j] = chr(fill_key[r])\n",
    "                r+=1\n",
    "    return k\n",
    "\n",
    "\n",
    "\n",
    "def playfair_encrypt(msg,playfair_key='ETHICS'):\n",
    "    di_gr = di_graph(msg)\n",
    "    key_g = playfair_key_gen(playfair_key)\n",
    "    out = ''\n",
    "    sing_l = []\n",
    "    for i in range(5):\n",
    "        for j in range(5):\n",
    "            sing_l.append(key_g[i][j])\n",
    "    print(sing_l)\n",
    "    for i in di_gr:\n",
    "        i.replace('J','I')\n",
    "        first_letter = i[0]\n",
    "        second_letter = i[1]\n",
    "        \n",
    "        if first_letter == second_letter:\n",
    "            out += first_letter + first_letter\n",
    "        else:\n",
    "            pass\n",
    "\n",
    "    return out\n",
    "\n",
    "def playfair_decrypt(msg,playfair_key='ETHICS'):\n",
    "    msg_l = list(msg)\n",
    "    out = ''\n",
    "    for i in msg_l:\n",
    "        out += chr((ord(i) - 65 - playfair_key)%26 + 65 )\n",
    "    return out\n",
    "\n",
    "playfair_encrypt('MY NAME IS MAHANTH')\n",
    "# playfair_decrypt( playfair_encrypt('MY NAME IS MAHANTH') )"
   ]
  },
  {
   "cell_type": "code",
   "execution_count": null,
   "metadata": {},
   "outputs": [],
   "source": []
  }
 ],
 "metadata": {
  "interpreter": {
   "hash": "f215425a2d4d1f10b6cb3b2ced5b05f6c7e9ea439ae0b7436101621d6ff4ef7e"
  },
  "kernelspec": {
   "display_name": "Mahanth",
   "language": "python",
   "name": "python-3.7.4"
  },
  "language_info": {
   "codemirror_mode": {
    "name": "ipython",
    "version": 3
   },
   "file_extension": ".py",
   "mimetype": "text/x-python",
   "name": "python",
   "nbconvert_exporter": "python",
   "pygments_lexer": "ipython3",
   "version": "3.7.4"
  },
  "orig_nbformat": 4
 },
 "nbformat": 4,
 "nbformat_minor": 2
}
