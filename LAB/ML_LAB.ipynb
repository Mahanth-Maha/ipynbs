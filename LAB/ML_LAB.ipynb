{
 "cells": [
  {
   "cell_type": "markdown",
   "metadata": {},
   "source": [
    "# find-s"
   ]
  },
  {
   "cell_type": "code",
   "execution_count": 227,
   "metadata": {},
   "outputs": [
    {
     "data": {
      "text/plain": [
       "[['outlook', 'temp', 'humidity', 'wind', 'play'],\n",
       " ['Sunny', 'Hot', 'High', 'Weak', 'No'],\n",
       " ['Sunny', 'Hot', 'High', 'Strong', 'No'],\n",
       " ['Overcast', 'Hot', 'High', 'Weak', 'Yes'],\n",
       " ['Rain', 'Mild', 'High', 'Weak', 'Yes'],\n",
       " ['Rain', 'Cool', 'Normal', 'Weak', 'Yes'],\n",
       " ['Rain', 'Cool', 'Normal', 'Strong', 'No'],\n",
       " ['Overcast', 'Cool', 'Normal', 'Strong', 'Yes'],\n",
       " ['Sunny', 'Mild', 'High', 'Weak', 'No'],\n",
       " ['Sunny', 'Cool', 'Normal', 'Weak', 'Yes'],\n",
       " ['Rain', 'Mild', 'Normal', 'Weak', 'Yes'],\n",
       " ['Sunny', 'Mild', 'Normal', 'Strong', 'Yes'],\n",
       " ['Overcast', 'Mild', 'High', 'Strong', 'Yes'],\n",
       " ['Overcast', 'Hot', 'Normal', 'Weak', 'Yes'],\n",
       " ['Rain', 'Mild', 'High', 'Strong', 'No']]"
      ]
     },
     "execution_count": 227,
     "metadata": {},
     "output_type": "execute_result"
    }
   ],
   "source": [
    "with open(\"play_tennis.csv\",'r') as f:d = f.read().split('\\n')\n",
    "data = [i.split(',')[1:] for i in d]\n",
    "data"
   ]
  },
  {
   "cell_type": "code",
   "execution_count": 228,
   "metadata": {},
   "outputs": [
    {
     "data": {
      "text/plain": [
       "({'outlook': ['Rainy', 'Sunny'],\n",
       "  'temp': ['Cold', 'Warm'],\n",
       "  'humidity': ['High', 'Normal'],\n",
       "  'wind': ['Strong'],\n",
       "  'Water': ['Warm', 'Cool'],\n",
       "  'Forecast': ['Change', 'Same'],\n",
       "  'play': ['No', 'Yes']},\n",
       " ['?', '?', '?', '?', '?', '?'])"
      ]
     },
     "execution_count": 228,
     "metadata": {},
     "output_type": "execute_result"
    }
   ],
   "source": [
    "data = [['outlook', 'temp', 'humidity', 'wind','Water','Forecast', 'play'],\n",
    " ['Sunny', 'Warm', 'Normal', 'Strong', 'Warm','Same','Yes'],\n",
    " ['Sunny', 'Warm', 'High', 'Strong','Warm','Same', 'Yes'],\n",
    " ['Rainy', 'Cold', 'High', 'Strong','Warm','Change', 'No'],\n",
    " ['Sunny', 'Warm', 'High', 'Strong','Cool','Change', 'Yes']]\n",
    "att = (len(data[0]))\n",
    "d = {}\n",
    "for i in data[0]:\n",
    "    d[i] = []\n",
    "for i in data[1:]:\n",
    "    for k,v in zip(data[0],i):\n",
    "        d[k].append(v)\n",
    "for i in data[0]:\n",
    "    d[i] = list(set(d[i]))\n",
    "\n",
    "h = ['?']  * (att-1)\n",
    "d,h"
   ]
  },
  {
   "cell_type": "code",
   "execution_count": 229,
   "metadata": {},
   "outputs": [
    {
     "data": {
      "text/plain": [
       "['Sunny', 'Warm', '?', 'Strong', '?', '?']"
      ]
     },
     "execution_count": 229,
     "metadata": {},
     "output_type": "execute_result"
    }
   ],
   "source": [
    "h = data[1][:-1]\n",
    "for i in data[1:]:\n",
    "    if i[-1] == 'Yes':\n",
    "        for j in range(len(i[:-1])):\n",
    "            if h[j] != i[j]:\n",
    "                h[j] = '?'\n",
    "h"
   ]
  },
  {
   "cell_type": "markdown",
   "metadata": {},
   "source": [
    "# Candi ELim"
   ]
  },
  {
   "cell_type": "code",
   "execution_count": 230,
   "metadata": {},
   "outputs": [
    {
     "data": {
      "text/plain": [
       "(['Sunny', 'Warm', '?', 'Strong', '?', '?'],\n",
       " [['Sunny', '?', '?', '?', '?', '?'], ['?', 'Warm', '?', '?', '?', '?']])"
      ]
     },
     "execution_count": 230,
     "metadata": {},
     "output_type": "execute_result"
    }
   ],
   "source": [
    "S = ['#'] * (att-1)\n",
    "G = []\n",
    "\n",
    "#init S\n",
    "for i in data[1:]:\n",
    "    if i[-1] == 'Yes':\n",
    "        S= i[:-1]\n",
    "        break\n",
    "for i in data[1:]:\n",
    "    # +ve\n",
    "    if i[-1] == 'Yes':\n",
    "        for j in range(att-1):\n",
    "            if S[j] != i[j]:\n",
    "                S[j] = '?'\n",
    "        if len(G) != 0:\n",
    "            rem = []\n",
    "            for k in G:\n",
    "                for j in range(att-1):\n",
    "                    if k[j] != S[j] and k[j] != '?':\n",
    "                        rem.append(k)\n",
    "                        break\n",
    "            for j in rem:\n",
    "                G.remove(j)\n",
    "    # -ve\n",
    "    else:\n",
    "        for j in range(att-1):\n",
    "            if S[j] != i[j] and S[j] != '?':\n",
    "                g = ['?'] * (att-1)\n",
    "                g[j] = S[j]\n",
    "                if g not in G:\n",
    "                    G.append(g)\n",
    "                \n",
    "                \n",
    "S,G"
   ]
  },
  {
   "cell_type": "markdown",
   "metadata": {},
   "source": [
    "# ANN using Back Propogation"
   ]
  },
  {
   "cell_type": "code",
   "execution_count": 231,
   "metadata": {},
   "outputs": [
    {
     "data": {
      "text/plain": [
       "(array([[0.66666667, 1.        ],\n",
       "        [0.33333333, 0.55555556],\n",
       "        [1.        , 0.66666667]]),\n",
       " array([[0.92],\n",
       "        [0.86],\n",
       "        [0.89]]))"
      ]
     },
     "execution_count": 231,
     "metadata": {},
     "output_type": "execute_result"
    }
   ],
   "source": [
    "import numpy as np\n",
    "X = np.array(([2, 9], [1, 5], [3, 6]),dtype = float) # Hours Studied, Hours Slept \n",
    "y = np.array(([92], [86], [89]),dtype = float) # Test Score\n",
    "\n",
    "X = X/np.amax(X,axis=0)\n",
    "y = y/100\n",
    "X,y"
   ]
  },
  {
   "cell_type": "code",
   "execution_count": 232,
   "metadata": {},
   "outputs": [],
   "source": [
    "class NeuralNetwork(object):\n",
    "    def __init__(self):\n",
    "        #parameters\n",
    "        self.inputSize = 2\n",
    "        self.outputSize = 1\n",
    "        self.hiddenSize = 3\n",
    "        \n",
    "        #weights\n",
    "        self.W1 = np.random.randn(self.inputSize, self.hiddenSize) # (2x3) weight matrix from input to hidden layer\n",
    "        self.W2 = np.random.randn(self.hiddenSize, self.outputSize) # (3x1) weight matrix from hidden to output layer\n",
    "        # print(f'{self.W1=},{self.W2=}')\n",
    "        \n",
    "    def feedForward(self, X):\n",
    "        #forward propogation through the network\n",
    "        self.z = np.dot(X, self.W1) #dot product of X (input) and first set of weights (3x2)\n",
    "        self.z2 = self.sigmoid(self.z) #activation function\n",
    "        self.z3 = np.dot(self.z2, self.W2) #dot product of hidden layer (z2) and second set of weights (3x1)\n",
    "        output = self.sigmoid(self.z3)\n",
    "        # print(f'{self.z=},{self.z2=},{self.z3=},{output=}')\n",
    "        return output\n",
    "        \n",
    "    def sigmoid(self, s, deriv=False):\n",
    "        if (deriv == True):\n",
    "            return s * (1 - s)\n",
    "        return 1/(1 + np.exp(-s))\n",
    "    \n",
    "    def backward(self, X, y, output):\n",
    "        #backward propogate through the network\n",
    "        self.output_error = y - output # error in output\n",
    "        self.output_delta = self.output_error * self.sigmoid(output, deriv=True)\n",
    "        # print(f'{self.output_error=},{self.output_delta=}')\n",
    "\n",
    "        self.z2_error = self.output_delta.dot(self.W2.T) #z2 error: how much our hidden layer weights contribute to output error\n",
    "        self.z2_delta = self.z2_error * self.sigmoid(self.z2, deriv=True) #applying derivative of sigmoid to z2 error\n",
    "        # print(f'{self.z2_error=},{self.z2_delta=}')\n",
    "\n",
    "        self.W1 += X.T.dot(self.z2_delta) # adjusting first set (input -> hidden) weights\n",
    "        self.W2 += self.z2.T.dot(self.output_delta) # adjusting second set (hidden -> output) weights\n",
    "        # print(f'{self.W1=},{self.W2=}')\n",
    "\n",
    "    def train(self, X, y):\n",
    "        output = self.feedForward(X)\n",
    "        self.backward(X, y, output)\n",
    "        \n",
    "NN = NeuralNetwork()\n"
   ]
  },
  {
   "cell_type": "code",
   "execution_count": 233,
   "metadata": {},
   "outputs": [
    {
     "name": "stdout",
     "output_type": "stream",
     "text": [
      "Loss: 0.26257637199650213\n",
      "Loss: 6.200515105890556e-06\n",
      "Loss: 2.014477459879231e-07\n",
      "Loss: 6.608696151975154e-09\n",
      "Loss: 2.1736206163271118e-10\n"
     ]
    }
   ],
   "source": [
    "for i in range(50000): #trains the NN 1000 times\n",
    "    if (i % 10000 == 0):\n",
    "        print(\"Loss: \" + str(np.mean(np.square(y - NN.feedForward(X)))))\n",
    "    NN.train(X, y)"
   ]
  },
  {
   "cell_type": "code",
   "execution_count": 234,
   "metadata": {},
   "outputs": [
    {
     "name": "stdout",
     "output_type": "stream",
     "text": [
      "Input: [[0.66666667 1.        ]\n",
      " [0.33333333 0.55555556]\n",
      " [1.         0.66666667]]\n",
      "Actual Output: [[0.92]\n",
      " [0.86]\n",
      " [0.89]]\n",
      "Loss: 7.1526609714612225e-12\n",
      "\n",
      "\n",
      "Predicted Output: [[0.91999595]\n",
      " [0.86000217]\n",
      " [0.89000056]]\n"
     ]
    }
   ],
   "source": [
    "print(\"Input: \" + str(X))\n",
    "print(\"Actual Output: \" + str(y))\n",
    "print(\"Loss: \" + str(np.mean(np.square(y - NN.feedForward(X)))))\n",
    "print(\"\\n\")\n",
    "print(\"Predicted Output: \" + str(NN.feedForward(X)))"
   ]
  },
  {
   "cell_type": "markdown",
   "metadata": {},
   "source": [
    "# Naive Bayes Classifier"
   ]
  },
  {
   "cell_type": "code",
   "execution_count": 235,
   "metadata": {},
   "outputs": [
    {
     "data": {
      "text/plain": [
       "((10, 5), (4, 5))"
      ]
     },
     "execution_count": 235,
     "metadata": {},
     "output_type": "execute_result"
    }
   ],
   "source": [
    "import numpy as np\n",
    "\n",
    "data = [['outlook','temp','humidity','windy','play'],\n",
    "['sunny','hot','high','Weak','no'],\n",
    "['sunny','hot','high','Strong','no'],\n",
    "['overcast','hot','high','Weak','yes'],\n",
    "['rainy','mild','high','Weak','yes'],\n",
    "['rainy','cool','normal','Weak','yes'],\n",
    "['rainy','cool','normal','Strong','no'],\n",
    "['overcast','cool','normal','Strong','yes'],\n",
    "['sunny','mild','high','Weak','no'],\n",
    "['sunny','cool','normal','Weak','yes'],\n",
    "['rainy','mild','normal','Weak','yes'],\n",
    "['sunny','mild','normal','Strong','yes'],\n",
    "['overcast','mild','high','Strong','yes'],\n",
    "['overcast','hot','normal','Weak','yes'],\n",
    "['rainy','mild','high','Strong','no']]\n",
    "\n",
    "def splitDataset(dataset, splitRatio):\n",
    "    trainSize = int(len(dataset) * splitRatio)\n",
    "    trainSet = []\n",
    "    testset = list(dataset)\n",
    "    i=0\n",
    "    while len(trainSet) < trainSize:\n",
    "        trainSet.append(testset.pop(i))\n",
    "    return [trainSet, testset]\n",
    "\n",
    "metadata,traindata=data[0],data[1:]\n",
    "splitRatio=0.75\n",
    "trainingset, testset=splitDataset(traindata, splitRatio)\n",
    "train=np.array(trainingset)\n",
    "test=np.array(testset)\n",
    "train.shape,test.shape"
   ]
  },
  {
   "cell_type": "code",
   "execution_count": 236,
   "metadata": {},
   "outputs": [
    {
     "data": {
      "text/plain": [
       "(0.6, 0.4)"
      ]
     },
     "execution_count": 236,
     "metadata": {},
     "output_type": "execute_result"
    }
   ],
   "source": [
    "total_size = train.shape[0]\n",
    "\n",
    "countYes = 0\n",
    "countNo = 0\n",
    "probYes = 0\n",
    "probNo = 0\n",
    "\n",
    "for x in range(train.shape[0]):\n",
    "    if train[x,train.shape[1]-1] == 'yes':\n",
    "        countYes +=1\n",
    "    if train[x,train.shape[1]-1] == 'no':\n",
    "        countNo +=1\n",
    "\n",
    "probYes=countYes/total_size\n",
    "probNo= countNo/total_size\n",
    "probYes,probNo"
   ]
  },
  {
   "cell_type": "code",
   "execution_count": 237,
   "metadata": {},
   "outputs": [
    {
     "name": "stdout",
     "output_type": "stream",
     "text": [
      "p0=array([7.5, 0. , 0. , 0. ]),p1=array([1.66666667, 0.        , 0.        , 0.        ])\n",
      "p0=array([7.5, 2.5, 0. , 0. ]),p1=array([1.66666667, 3.33333333, 0.        , 0.        ])\n",
      "p0=array([7.5, 2.5, 2.5, 0. ]),p1=array([1.66666667, 3.33333333, 6.66666667, 0.        ])\n",
      "p0=array([7.5, 2.5, 2.5, 5. ]),p1=array([1.66666667, 3.33333333, 6.66666667, 1.66666667])\n",
      "p0=array([0., 0., 0., 0.]),p1=array([3.33333333, 0.        , 0.        , 0.        ])\n",
      "p0=array([0. , 2.5, 0. , 0. ]),p1=array([3.33333333, 3.33333333, 0.        , 0.        ])\n",
      "p0=array([0. , 2.5, 7.5, 0. ]),p1=array([3.33333333, 3.33333333, 3.33333333, 0.        ])\n",
      "p0=array([0. , 2.5, 7.5, 5. ]),p1=array([3.33333333, 3.33333333, 3.33333333, 1.66666667])\n",
      "p0=array([0., 0., 0., 0.]),p1=array([3.33333333, 0.        , 0.        , 0.        ])\n",
      "p0=array([0., 5., 0., 0.]),p1=array([3.33333333, 1.66666667, 0.        , 0.        ])\n",
      "p0=array([0. , 5. , 2.5, 0. ]),p1=array([3.33333333, 1.66666667, 6.66666667, 0.        ])\n",
      "p0=array([0. , 5. , 2.5, 5. ]),p1=array([3.33333333, 1.66666667, 6.66666667, 8.33333333])\n",
      "p0=array([2.5, 0. , 0. , 0. ]),p1=array([5., 0., 0., 0.])\n",
      "p0=array([2.5, 2.5, 0. , 0. ]),p1=array([5.        , 3.33333333, 0.        , 0.        ])\n",
      "p0=array([2.5, 2.5, 7.5, 0. ]),p1=array([5.        , 3.33333333, 3.33333333, 0.        ])\n",
      "p0=array([2.5, 2.5, 7.5, 5. ]),p1=array([5.        , 3.33333333, 3.33333333, 1.66666667])\n"
     ]
    },
    {
     "data": {
      "text/plain": [
       "0.75"
      ]
     },
     "execution_count": 237,
     "metadata": {},
     "output_type": "execute_result"
    }
   ],
   "source": [
    "acc = 0\n",
    "for i in range(test.shape[0]):\n",
    "    p0 = np.zeros(train.shape[1]-1)\n",
    "    p1 = np.zeros(train.shape[1]-1)\n",
    "    for j in range(test.shape[1] - 1):\n",
    "        c0 = 0\n",
    "        c1 = 0\n",
    "        for k in range(train.shape[0]):\n",
    "            if test[i,j] == train[k,j] and train[k,-1] == 'yes':\n",
    "                c1 += 1\n",
    "            elif test[i,j] == train[k,j] and train[k,-1] == 'no':\n",
    "                c0 += 1\n",
    "        p0[j] = c0/probNo\n",
    "        p1[j] = c1/probYes\n",
    "        print(f'{p0=},{p1=}')\n",
    "        \n",
    "    p02 = probNo\n",
    "    p12 = probYes\n",
    "    for q in range(train.shape[1]-1):\n",
    "        p02 *= p0[q] \n",
    "        p12 *= p1[q] \n",
    "    if p12 > p02:\n",
    "        res = 'yes'\n",
    "    else:\n",
    "        res = 'no'\n",
    "    if test[i,train.shape[1]-1] == res:\n",
    "        acc += 1\n",
    "acc/test.shape[0]\n",
    "\n"
   ]
  },
  {
   "cell_type": "code",
   "execution_count": 238,
   "metadata": {},
   "outputs": [
    {
     "name": "stdout",
     "output_type": "stream",
     "text": [
      "instance prediction  target\n",
      "prob0=array([0.75, 0.  , 0.  , 0.  ]),prob1=array([0.16666667, 0.        , 0.        , 0.        ])\n",
      "prob0=array([0.75, 0.25, 0.  , 0.  ]),prob1=array([0.16666667, 0.33333333, 0.        , 0.        ])\n",
      "prob0=array([0.75, 0.25, 0.25, 0.  ]),prob1=array([0.16666667, 0.33333333, 0.66666667, 0.        ])\n",
      "prob0=array([0.75, 0.25, 0.25, 0.5 ]),prob1=array([0.16666667, 0.33333333, 0.66666667, 0.16666667])\n",
      "1 \t no \t     yes\n",
      "prob0=array([0.  , 0.25, 0.25, 0.5 ]),prob1=array([0.33333333, 0.33333333, 0.66666667, 0.16666667])\n",
      "prob0=array([0.  , 0.25, 0.25, 0.5 ]),prob1=array([0.33333333, 0.33333333, 0.66666667, 0.16666667])\n",
      "prob0=array([0.  , 0.25, 0.75, 0.5 ]),prob1=array([0.33333333, 0.33333333, 0.33333333, 0.16666667])\n",
      "prob0=array([0.  , 0.25, 0.75, 0.5 ]),prob1=array([0.33333333, 0.33333333, 0.33333333, 0.16666667])\n",
      "2 \t yes \t     yes\n",
      "prob0=array([0.  , 0.25, 0.75, 0.5 ]),prob1=array([0.33333333, 0.33333333, 0.33333333, 0.16666667])\n",
      "prob0=array([0.  , 0.5 , 0.75, 0.5 ]),prob1=array([0.33333333, 0.16666667, 0.33333333, 0.16666667])\n",
      "prob0=array([0.  , 0.5 , 0.25, 0.5 ]),prob1=array([0.33333333, 0.16666667, 0.66666667, 0.16666667])\n",
      "prob0=array([0.  , 0.5 , 0.25, 0.5 ]),prob1=array([0.33333333, 0.16666667, 0.66666667, 0.83333333])\n",
      "3 \t yes \t     yes\n",
      "prob0=array([0.25, 0.5 , 0.25, 0.5 ]),prob1=array([0.5       , 0.16666667, 0.66666667, 0.83333333])\n",
      "prob0=array([0.25, 0.25, 0.25, 0.5 ]),prob1=array([0.5       , 0.33333333, 0.66666667, 0.83333333])\n",
      "prob0=array([0.25, 0.25, 0.75, 0.5 ]),prob1=array([0.5       , 0.33333333, 0.33333333, 0.83333333])\n",
      "prob0=array([0.25, 0.25, 0.75, 0.5 ]),prob1=array([0.5       , 0.33333333, 0.33333333, 0.16666667])\n",
      "4 \t no \t     no\n",
      "accuracy 75.0 %\n"
     ]
    }
   ],
   "source": [
    "prob0 =np.zeros((test.shape[1]-1))\n",
    "prob1 =np.zeros((test.shape[1]-1))\n",
    "accuracy=0\n",
    "\n",
    "print(\"instance prediction  target\")\n",
    "for t in range(test.shape[0]):\n",
    "    for k in range (test.shape[1]-1):\n",
    "        count1=count0=0\n",
    "        for j in range (train.shape[0]):\n",
    "            #how many times appeared with no\n",
    "            if test[t,k] == train[j,k] and train[j,train.shape[1]-1]=='no':\n",
    "                count0+=1\n",
    "            #how many times appeared with yes\n",
    "            if test[t,k] == train[j,k] and train[j,train.shape[1]-1]=='yes':\n",
    "                count1+=1\n",
    "        prob0[k]=count0/countNo\n",
    "        prob1[k]=count1/countYes\n",
    "        print(f'{prob0=},{prob1=}')\n",
    "    \n",
    "    probno=probNo\n",
    "    probyes=probYes\n",
    "\n",
    "    for i in range(test.shape[1]-1):\n",
    "        probno=probno*prob0[i]\n",
    "        probyes=probyes*prob1[i]\n",
    "    if probno>probyes:\n",
    "        predict='no'\n",
    "    else:\n",
    "        predict='yes'\n",
    "\n",
    "    print(t+1,\"\\t\",predict,\"\\t    \",test[t,test.shape[1]-1])\n",
    "    if predict == test[t,test.shape[1]-1]:\n",
    "        accuracy+=1\n",
    "final_accuracy=(accuracy/test.shape[0])*100\n",
    "print(\"accuracy\",final_accuracy,\"%\")"
   ]
  },
  {
   "cell_type": "markdown",
   "metadata": {},
   "source": [
    "# Naive Bayes Text Classifier"
   ]
  },
  {
   "cell_type": "code",
   "execution_count": 239,
   "metadata": {},
   "outputs": [
    {
     "data": {
      "text/html": [
       "<div>\n",
       "<style scoped>\n",
       "    .dataframe tbody tr th:only-of-type {\n",
       "        vertical-align: middle;\n",
       "    }\n",
       "\n",
       "    .dataframe tbody tr th {\n",
       "        vertical-align: top;\n",
       "    }\n",
       "\n",
       "    .dataframe thead th {\n",
       "        text-align: right;\n",
       "    }\n",
       "</style>\n",
       "<table border=\"1\" class=\"dataframe\">\n",
       "  <thead>\n",
       "    <tr style=\"text-align: right;\">\n",
       "      <th></th>\n",
       "      <th>message</th>\n",
       "      <th>label</th>\n",
       "    </tr>\n",
       "  </thead>\n",
       "  <tbody>\n",
       "    <tr>\n",
       "      <th>0</th>\n",
       "      <td>I love this sandwich</td>\n",
       "      <td>pos</td>\n",
       "    </tr>\n",
       "    <tr>\n",
       "      <th>1</th>\n",
       "      <td>This is an amazing place</td>\n",
       "      <td>pos</td>\n",
       "    </tr>\n",
       "    <tr>\n",
       "      <th>2</th>\n",
       "      <td>I feel very good about these beers</td>\n",
       "      <td>pos</td>\n",
       "    </tr>\n",
       "    <tr>\n",
       "      <th>3</th>\n",
       "      <td>This is my best work</td>\n",
       "      <td>pos</td>\n",
       "    </tr>\n",
       "    <tr>\n",
       "      <th>4</th>\n",
       "      <td>What an awesome view</td>\n",
       "      <td>pos</td>\n",
       "    </tr>\n",
       "  </tbody>\n",
       "</table>\n",
       "</div>"
      ],
      "text/plain": [
       "                              message label\n",
       "0                I love this sandwich   pos\n",
       "1            This is an amazing place   pos\n",
       "2  I feel very good about these beers   pos\n",
       "3                This is my best work   pos\n",
       "4                What an awesome view   pos"
      ]
     },
     "execution_count": 239,
     "metadata": {},
     "output_type": "execute_result"
    }
   ],
   "source": [
    "import pandas as pd\n",
    "\n",
    "data=pd.read_csv('text_classi.csv',names=['message','label'])\n",
    "data.head()"
   ]
  },
  {
   "cell_type": "code",
   "execution_count": 240,
   "metadata": {},
   "outputs": [
    {
     "data": {
      "text/html": [
       "<div>\n",
       "<style scoped>\n",
       "    .dataframe tbody tr th:only-of-type {\n",
       "        vertical-align: middle;\n",
       "    }\n",
       "\n",
       "    .dataframe tbody tr th {\n",
       "        vertical-align: top;\n",
       "    }\n",
       "\n",
       "    .dataframe thead th {\n",
       "        text-align: right;\n",
       "    }\n",
       "</style>\n",
       "<table border=\"1\" class=\"dataframe\">\n",
       "  <thead>\n",
       "    <tr style=\"text-align: right;\">\n",
       "      <th></th>\n",
       "      <th>message</th>\n",
       "      <th>label</th>\n",
       "      <th>labelnum</th>\n",
       "    </tr>\n",
       "  </thead>\n",
       "  <tbody>\n",
       "    <tr>\n",
       "      <th>0</th>\n",
       "      <td>I love this sandwich</td>\n",
       "      <td>pos</td>\n",
       "      <td>1</td>\n",
       "    </tr>\n",
       "    <tr>\n",
       "      <th>1</th>\n",
       "      <td>This is an amazing place</td>\n",
       "      <td>pos</td>\n",
       "      <td>1</td>\n",
       "    </tr>\n",
       "    <tr>\n",
       "      <th>2</th>\n",
       "      <td>I feel very good about these beers</td>\n",
       "      <td>pos</td>\n",
       "      <td>1</td>\n",
       "    </tr>\n",
       "    <tr>\n",
       "      <th>3</th>\n",
       "      <td>This is my best work</td>\n",
       "      <td>pos</td>\n",
       "      <td>1</td>\n",
       "    </tr>\n",
       "    <tr>\n",
       "      <th>4</th>\n",
       "      <td>What an awesome view</td>\n",
       "      <td>pos</td>\n",
       "      <td>1</td>\n",
       "    </tr>\n",
       "  </tbody>\n",
       "</table>\n",
       "</div>"
      ],
      "text/plain": [
       "                              message label  labelnum\n",
       "0                I love this sandwich   pos         1\n",
       "1            This is an amazing place   pos         1\n",
       "2  I feel very good about these beers   pos         1\n",
       "3                This is my best work   pos         1\n",
       "4                What an awesome view   pos         1"
      ]
     },
     "execution_count": 240,
     "metadata": {},
     "output_type": "execute_result"
    }
   ],
   "source": [
    "data['labelnum']=data.label.map({'pos':1,'neg':0})\n",
    "X=data.message\n",
    "Y=data.labelnum\n",
    "data.head()"
   ]
  },
  {
   "cell_type": "code",
   "execution_count": 241,
   "metadata": {},
   "outputs": [
    {
     "data": {
      "text/plain": [
       "(13, 5)"
      ]
     },
     "execution_count": 241,
     "metadata": {},
     "output_type": "execute_result"
    }
   ],
   "source": [
    "from sklearn.model_selection import train_test_split\n",
    "xtrain,xtest,ytrain,ytest=train_test_split(X,Y)\n",
    "xtrain.shape[0],xtest.shape[0]"
   ]
  },
  {
   "cell_type": "code",
   "execution_count": 242,
   "metadata": {},
   "outputs": [
    {
     "data": {
      "text/html": [
       "<div>\n",
       "<style scoped>\n",
       "    .dataframe tbody tr th:only-of-type {\n",
       "        vertical-align: middle;\n",
       "    }\n",
       "\n",
       "    .dataframe tbody tr th {\n",
       "        vertical-align: top;\n",
       "    }\n",
       "\n",
       "    .dataframe thead th {\n",
       "        text-align: right;\n",
       "    }\n",
       "</style>\n",
       "<table border=\"1\" class=\"dataframe\">\n",
       "  <thead>\n",
       "    <tr style=\"text-align: right;\">\n",
       "      <th></th>\n",
       "      <th>about</th>\n",
       "      <th>am</th>\n",
       "      <th>amazing</th>\n",
       "      <th>an</th>\n",
       "      <th>awesome</th>\n",
       "      <th>bad</th>\n",
       "      <th>beers</th>\n",
       "      <th>best</th>\n",
       "      <th>boss</th>\n",
       "      <th>can</th>\n",
       "      <th>...</th>\n",
       "      <th>this</th>\n",
       "      <th>tired</th>\n",
       "      <th>to</th>\n",
       "      <th>today</th>\n",
       "      <th>very</th>\n",
       "      <th>view</th>\n",
       "      <th>went</th>\n",
       "      <th>what</th>\n",
       "      <th>with</th>\n",
       "      <th>work</th>\n",
       "    </tr>\n",
       "  </thead>\n",
       "  <tbody>\n",
       "    <tr>\n",
       "      <th>0</th>\n",
       "      <td>0</td>\n",
       "      <td>0</td>\n",
       "      <td>0</td>\n",
       "      <td>0</td>\n",
       "      <td>0</td>\n",
       "      <td>0</td>\n",
       "      <td>0</td>\n",
       "      <td>1</td>\n",
       "      <td>0</td>\n",
       "      <td>0</td>\n",
       "      <td>...</td>\n",
       "      <td>1</td>\n",
       "      <td>0</td>\n",
       "      <td>0</td>\n",
       "      <td>0</td>\n",
       "      <td>0</td>\n",
       "      <td>0</td>\n",
       "      <td>0</td>\n",
       "      <td>0</td>\n",
       "      <td>0</td>\n",
       "      <td>1</td>\n",
       "    </tr>\n",
       "    <tr>\n",
       "      <th>1</th>\n",
       "      <td>1</td>\n",
       "      <td>0</td>\n",
       "      <td>0</td>\n",
       "      <td>0</td>\n",
       "      <td>0</td>\n",
       "      <td>0</td>\n",
       "      <td>1</td>\n",
       "      <td>0</td>\n",
       "      <td>0</td>\n",
       "      <td>0</td>\n",
       "      <td>...</td>\n",
       "      <td>0</td>\n",
       "      <td>0</td>\n",
       "      <td>0</td>\n",
       "      <td>0</td>\n",
       "      <td>1</td>\n",
       "      <td>0</td>\n",
       "      <td>0</td>\n",
       "      <td>0</td>\n",
       "      <td>0</td>\n",
       "      <td>0</td>\n",
       "    </tr>\n",
       "    <tr>\n",
       "      <th>2</th>\n",
       "      <td>0</td>\n",
       "      <td>0</td>\n",
       "      <td>0</td>\n",
       "      <td>0</td>\n",
       "      <td>0</td>\n",
       "      <td>0</td>\n",
       "      <td>0</td>\n",
       "      <td>0</td>\n",
       "      <td>0</td>\n",
       "      <td>0</td>\n",
       "      <td>...</td>\n",
       "      <td>0</td>\n",
       "      <td>0</td>\n",
       "      <td>1</td>\n",
       "      <td>1</td>\n",
       "      <td>0</td>\n",
       "      <td>0</td>\n",
       "      <td>1</td>\n",
       "      <td>0</td>\n",
       "      <td>0</td>\n",
       "      <td>0</td>\n",
       "    </tr>\n",
       "    <tr>\n",
       "      <th>3</th>\n",
       "      <td>0</td>\n",
       "      <td>0</td>\n",
       "      <td>1</td>\n",
       "      <td>1</td>\n",
       "      <td>0</td>\n",
       "      <td>0</td>\n",
       "      <td>0</td>\n",
       "      <td>0</td>\n",
       "      <td>0</td>\n",
       "      <td>0</td>\n",
       "      <td>...</td>\n",
       "      <td>1</td>\n",
       "      <td>0</td>\n",
       "      <td>0</td>\n",
       "      <td>0</td>\n",
       "      <td>0</td>\n",
       "      <td>0</td>\n",
       "      <td>0</td>\n",
       "      <td>0</td>\n",
       "      <td>0</td>\n",
       "      <td>0</td>\n",
       "    </tr>\n",
       "    <tr>\n",
       "      <th>4</th>\n",
       "      <td>0</td>\n",
       "      <td>0</td>\n",
       "      <td>0</td>\n",
       "      <td>0</td>\n",
       "      <td>0</td>\n",
       "      <td>0</td>\n",
       "      <td>0</td>\n",
       "      <td>0</td>\n",
       "      <td>0</td>\n",
       "      <td>0</td>\n",
       "      <td>...</td>\n",
       "      <td>1</td>\n",
       "      <td>0</td>\n",
       "      <td>0</td>\n",
       "      <td>0</td>\n",
       "      <td>0</td>\n",
       "      <td>0</td>\n",
       "      <td>0</td>\n",
       "      <td>0</td>\n",
       "      <td>0</td>\n",
       "      <td>0</td>\n",
       "    </tr>\n",
       "  </tbody>\n",
       "</table>\n",
       "<p>5 rows × 46 columns</p>\n",
       "</div>"
      ],
      "text/plain": [
       "   about  am  amazing  an  awesome  bad  beers  best  boss  can  ...  this  \\\n",
       "0      0   0        0   0        0    0      0     1     0    0  ...     1   \n",
       "1      1   0        0   0        0    0      1     0     0    0  ...     0   \n",
       "2      0   0        0   0        0    0      0     0     0    0  ...     0   \n",
       "3      0   0        1   1        0    0      0     0     0    0  ...     1   \n",
       "4      0   0        0   0        0    0      0     0     0    0  ...     1   \n",
       "\n",
       "   tired  to  today  very  view  went  what  with  work  \n",
       "0      0   0      0     0     0     0     0     0     1  \n",
       "1      0   0      0     1     0     0     0     0     0  \n",
       "2      0   1      1     0     0     1     0     0     0  \n",
       "3      0   0      0     0     0     0     0     0     0  \n",
       "4      0   0      0     0     0     0     0     0     0  \n",
       "\n",
       "[5 rows x 46 columns]"
      ]
     },
     "execution_count": 242,
     "metadata": {},
     "output_type": "execute_result"
    }
   ],
   "source": [
    "from sklearn.feature_extraction.text import CountVectorizer\n",
    "count_vect = CountVectorizer()\n",
    "\n",
    "xtrain_dtm = count_vect.fit_transform(xtrain)\n",
    "xtest_dtm = count_vect.transform(xtest)\n",
    "\n",
    "df=pd.DataFrame(xtrain_dtm.toarray(),columns=count_vect.get_feature_names_out())\n",
    "df.head()"
   ]
  },
  {
   "cell_type": "code",
   "execution_count": 243,
   "metadata": {},
   "outputs": [
    {
     "name": "stdout",
     "output_type": "stream",
     "text": [
      "Accuracy metrics\n",
      "Accuracy of the classifer is 1.0\n",
      "Confusion matrix\n",
      "[[3 0]\n",
      " [0 2]]\n",
      "Recall and Precison \n",
      "1.0\n",
      "1.0\n"
     ]
    }
   ],
   "source": [
    "from sklearn.naive_bayes import MultinomialNB\n",
    "clf = MultinomialNB().fit(xtrain_dtm,ytrain)\n",
    "predicted = clf.predict(xtest_dtm)\n",
    "\n",
    "from sklearn import metrics\n",
    "print('Accuracy metrics')\n",
    "print('Accuracy of the classifer is',metrics.accuracy_score(ytest,predicted))\n",
    "print('Confusion matrix')\n",
    "print(metrics.confusion_matrix(ytest,predicted))\n",
    "print('Recall and Precison ')\n",
    "print(metrics.recall_score(ytest,predicted))\n",
    "print(metrics.precision_score(ytest,predicted))"
   ]
  },
  {
   "cell_type": "code",
   "execution_count": 244,
   "metadata": {},
   "outputs": [
    {
     "data": {
      "text/plain": [
       "(0.6,\n",
       " array([[2, 0],\n",
       "        [2, 1]], dtype=int64),\n",
       " 1.0,\n",
       " 0.3333333333333333)"
      ]
     },
     "execution_count": 244,
     "metadata": {},
     "output_type": "execute_result"
    }
   ],
   "source": [
    "import pandas as pd\n",
    "data=pd.read_csv('text_classi.csv',names=['message','label'])\n",
    "# data.head()\n",
    "data['res'] = data.label.map({'pos':1,'neg':0})\n",
    "\n",
    "X = data['message']\n",
    "y = data['res']\n",
    "\n",
    "from sklearn.model_selection import train_test_split\n",
    "X_train,X_test,y_train,y_test = train_test_split(X,y)\n",
    "#X_train.shape[0],X_test.shape[0]\n",
    "from sklearn.feature_extraction.text import CountVectorizer\n",
    "cv = CountVectorizer()\n",
    "\n",
    "X_tr = cv.fit_transform(X_train)\n",
    "x_tr = cv.transform(X_test)\n",
    "\n",
    "df = pd.DataFrame(X_tr.toarray(),columns=cv.get_feature_names_out())\n",
    "#df.head()\n",
    "\n",
    "from sklearn.naive_bayes import MultinomialNB\n",
    "nb = MultinomialNB().fit(X_tr,y_train)\n",
    "predict = nb.predict(x_tr)\n",
    "\n",
    "from sklearn import metrics\n",
    "\n",
    "metrics.accuracy_score(y_test,predict),metrics.confusion_matrix(y_test,predict),metrics.precision_score(y_test,predict),metrics.recall_score(y_test,predict)\n"
   ]
  },
  {
   "cell_type": "markdown",
   "metadata": {},
   "source": [
    "# Bayesian Network"
   ]
  },
  {
   "cell_type": "code",
   "execution_count": 245,
   "metadata": {},
   "outputs": [],
   "source": [
    "# !pip install pgmpy"
   ]
  },
  {
   "cell_type": "code",
   "execution_count": 246,
   "metadata": {},
   "outputs": [
    {
     "data": {
      "text/html": [
       "<div>\n",
       "<style scoped>\n",
       "    .dataframe tbody tr th:only-of-type {\n",
       "        vertical-align: middle;\n",
       "    }\n",
       "\n",
       "    .dataframe tbody tr th {\n",
       "        vertical-align: top;\n",
       "    }\n",
       "\n",
       "    .dataframe thead th {\n",
       "        text-align: right;\n",
       "    }\n",
       "</style>\n",
       "<table border=\"1\" class=\"dataframe\">\n",
       "  <thead>\n",
       "    <tr style=\"text-align: right;\">\n",
       "      <th></th>\n",
       "      <th>age</th>\n",
       "      <th>Gender</th>\n",
       "      <th>Family</th>\n",
       "      <th>diet</th>\n",
       "      <th>Lifestyle</th>\n",
       "      <th>cholestrol</th>\n",
       "      <th>heartdisease</th>\n",
       "    </tr>\n",
       "  </thead>\n",
       "  <tbody>\n",
       "    <tr>\n",
       "      <th>0</th>\n",
       "      <td>0</td>\n",
       "      <td>0</td>\n",
       "      <td>1</td>\n",
       "      <td>1</td>\n",
       "      <td>3</td>\n",
       "      <td>0</td>\n",
       "      <td>1</td>\n",
       "    </tr>\n",
       "    <tr>\n",
       "      <th>1</th>\n",
       "      <td>0</td>\n",
       "      <td>1</td>\n",
       "      <td>1</td>\n",
       "      <td>1</td>\n",
       "      <td>3</td>\n",
       "      <td>0</td>\n",
       "      <td>1</td>\n",
       "    </tr>\n",
       "    <tr>\n",
       "      <th>2</th>\n",
       "      <td>1</td>\n",
       "      <td>0</td>\n",
       "      <td>0</td>\n",
       "      <td>0</td>\n",
       "      <td>2</td>\n",
       "      <td>1</td>\n",
       "      <td>1</td>\n",
       "    </tr>\n",
       "    <tr>\n",
       "      <th>3</th>\n",
       "      <td>4</td>\n",
       "      <td>0</td>\n",
       "      <td>1</td>\n",
       "      <td>1</td>\n",
       "      <td>3</td>\n",
       "      <td>2</td>\n",
       "      <td>0</td>\n",
       "    </tr>\n",
       "    <tr>\n",
       "      <th>4</th>\n",
       "      <td>3</td>\n",
       "      <td>1</td>\n",
       "      <td>1</td>\n",
       "      <td>0</td>\n",
       "      <td>0</td>\n",
       "      <td>2</td>\n",
       "      <td>0</td>\n",
       "    </tr>\n",
       "    <tr>\n",
       "      <th>5</th>\n",
       "      <td>2</td>\n",
       "      <td>0</td>\n",
       "      <td>1</td>\n",
       "      <td>1</td>\n",
       "      <td>1</td>\n",
       "      <td>0</td>\n",
       "      <td>1</td>\n",
       "    </tr>\n",
       "    <tr>\n",
       "      <th>6</th>\n",
       "      <td>4</td>\n",
       "      <td>0</td>\n",
       "      <td>1</td>\n",
       "      <td>0</td>\n",
       "      <td>2</td>\n",
       "      <td>0</td>\n",
       "      <td>1</td>\n",
       "    </tr>\n",
       "    <tr>\n",
       "      <th>7</th>\n",
       "      <td>0</td>\n",
       "      <td>0</td>\n",
       "      <td>1</td>\n",
       "      <td>1</td>\n",
       "      <td>3</td>\n",
       "      <td>0</td>\n",
       "      <td>1</td>\n",
       "    </tr>\n",
       "    <tr>\n",
       "      <th>8</th>\n",
       "      <td>3</td>\n",
       "      <td>1</td>\n",
       "      <td>1</td>\n",
       "      <td>0</td>\n",
       "      <td>0</td>\n",
       "      <td>2</td>\n",
       "      <td>0</td>\n",
       "    </tr>\n",
       "    <tr>\n",
       "      <th>9</th>\n",
       "      <td>1</td>\n",
       "      <td>1</td>\n",
       "      <td>0</td>\n",
       "      <td>0</td>\n",
       "      <td>0</td>\n",
       "      <td>2</td>\n",
       "      <td>1</td>\n",
       "    </tr>\n",
       "    <tr>\n",
       "      <th>10</th>\n",
       "      <td>4</td>\n",
       "      <td>1</td>\n",
       "      <td>0</td>\n",
       "      <td>1</td>\n",
       "      <td>2</td>\n",
       "      <td>0</td>\n",
       "      <td>1</td>\n",
       "    </tr>\n",
       "    <tr>\n",
       "      <th>11</th>\n",
       "      <td>4</td>\n",
       "      <td>0</td>\n",
       "      <td>1</td>\n",
       "      <td>1</td>\n",
       "      <td>3</td>\n",
       "      <td>2</td>\n",
       "      <td>0</td>\n",
       "    </tr>\n",
       "    <tr>\n",
       "      <th>12</th>\n",
       "      <td>2</td>\n",
       "      <td>1</td>\n",
       "      <td>0</td>\n",
       "      <td>0</td>\n",
       "      <td>0</td>\n",
       "      <td>0</td>\n",
       "      <td>0</td>\n",
       "    </tr>\n",
       "    <tr>\n",
       "      <th>13</th>\n",
       "      <td>2</td>\n",
       "      <td>0</td>\n",
       "      <td>1</td>\n",
       "      <td>1</td>\n",
       "      <td>1</td>\n",
       "      <td>0</td>\n",
       "      <td>1</td>\n",
       "    </tr>\n",
       "    <tr>\n",
       "      <th>14</th>\n",
       "      <td>3</td>\n",
       "      <td>1</td>\n",
       "      <td>1</td>\n",
       "      <td>0</td>\n",
       "      <td>0</td>\n",
       "      <td>1</td>\n",
       "      <td>0</td>\n",
       "    </tr>\n",
       "    <tr>\n",
       "      <th>15</th>\n",
       "      <td>0</td>\n",
       "      <td>0</td>\n",
       "      <td>1</td>\n",
       "      <td>0</td>\n",
       "      <td>0</td>\n",
       "      <td>2</td>\n",
       "      <td>1</td>\n",
       "    </tr>\n",
       "    <tr>\n",
       "      <th>16</th>\n",
       "      <td>1</td>\n",
       "      <td>1</td>\n",
       "      <td>0</td>\n",
       "      <td>1</td>\n",
       "      <td>2</td>\n",
       "      <td>1</td>\n",
       "      <td>1</td>\n",
       "    </tr>\n",
       "    <tr>\n",
       "      <th>17</th>\n",
       "      <td>3</td>\n",
       "      <td>1</td>\n",
       "      <td>1</td>\n",
       "      <td>1</td>\n",
       "      <td>0</td>\n",
       "      <td>1</td>\n",
       "      <td>0</td>\n",
       "    </tr>\n",
       "    <tr>\n",
       "      <th>18</th>\n",
       "      <td>4</td>\n",
       "      <td>0</td>\n",
       "      <td>1</td>\n",
       "      <td>1</td>\n",
       "      <td>3</td>\n",
       "      <td>2</td>\n",
       "      <td>0</td>\n",
       "    </tr>\n",
       "  </tbody>\n",
       "</table>\n",
       "</div>"
      ],
      "text/plain": [
       "    age  Gender  Family  diet  Lifestyle  cholestrol  heartdisease\n",
       "0     0       0       1     1          3           0             1\n",
       "1     0       1       1     1          3           0             1\n",
       "2     1       0       0     0          2           1             1\n",
       "3     4       0       1     1          3           2             0\n",
       "4     3       1       1     0          0           2             0\n",
       "5     2       0       1     1          1           0             1\n",
       "6     4       0       1     0          2           0             1\n",
       "7     0       0       1     1          3           0             1\n",
       "8     3       1       1     0          0           2             0\n",
       "9     1       1       0     0          0           2             1\n",
       "10    4       1       0     1          2           0             1\n",
       "11    4       0       1     1          3           2             0\n",
       "12    2       1       0     0          0           0             0\n",
       "13    2       0       1     1          1           0             1\n",
       "14    3       1       1     0          0           1             0\n",
       "15    0       0       1     0          0           2             1\n",
       "16    1       1       0     1          2           1             1\n",
       "17    3       1       1     1          0           1             0\n",
       "18    4       0       1     1          3           2             0"
      ]
     },
     "execution_count": 246,
     "metadata": {},
     "output_type": "execute_result"
    }
   ],
   "source": [
    "import pandas as pd\n",
    "# data=pd.read_csv(\"7.csv\")\n",
    "d2 = [['age','Gender','Family','diet','Lifestyle','cholestrol','heartdisease'],\n",
    "[0,0,1,1,3,0,1],\n",
    "[0,1,1,1,3,0,1],\n",
    "[1,0,0,0,2,1,1],\n",
    "[4,0,1,1,3,2,0],\n",
    "[3,1,1,0,0,2,0],\n",
    "[2,0,1,1,1,0,1],\n",
    "[4,0,1,0,2,0,1],\n",
    "[0,0,1,1,3,0,1],\n",
    "[3,1,1,0,0,2,0],\n",
    "[1,1,0,0,0,2,1],\n",
    "[4,1,0,1,2,0,1],\n",
    "[4,0,1,1,3,2,0],\n",
    "[2,1,0,0,0,0,0],\n",
    "[2,0,1,1,1,0,1],\n",
    "[3,1,1,0,0,1,0],\n",
    "[0,0,1,0,0,2,1],\n",
    "[1,1,0,1,2,1,1],\n",
    "[3,1,1,1,0,1,0],\n",
    "[4,0,1,1,3,2,0]]\n",
    "pd.DataFrame(d2[1:],columns = d2[0])"
   ]
  },
  {
   "cell_type": "code",
   "execution_count": 247,
   "metadata": {},
   "outputs": [],
   "source": [
    "heart_disease=pd.DataFrame(d2[1:],columns = d2[0])\n",
    "\n",
    "from pgmpy.models import BayesianNetwork\n",
    "model=BayesianNetwork([\n",
    "('age','Lifestyle'),\n",
    "('Gender','Lifestyle'),\n",
    "('Family','heartdisease'),\n",
    "('diet','cholestrol'),\n",
    "('Lifestyle','diet'),\n",
    "('cholestrol','heartdisease'),\n",
    "('Lifestyle','cholestrol')\n",
    "])"
   ]
  },
  {
   "cell_type": "code",
   "execution_count": 248,
   "metadata": {},
   "outputs": [],
   "source": [
    "from pgmpy.estimators import MaximumLikelihoodEstimator\n",
    "model.fit(heart_disease, estimator=MaximumLikelihoodEstimator)\n",
    "\n",
    "from pgmpy.inference import VariableElimination\n",
    "HeartDisease_infer = VariableElimination(model)\n"
   ]
  },
  {
   "cell_type": "code",
   "execution_count": 249,
   "metadata": {},
   "outputs": [
    {
     "data": {
      "application/vnd.jupyter.widget-view+json": {
       "model_id": "3d7525945d9643e7ad88b7e6e87f0ea0",
       "version_major": 2,
       "version_minor": 0
      },
      "text/plain": [
       "0it [00:00, ?it/s]"
      ]
     },
     "metadata": {},
     "output_type": "display_data"
    },
    {
     "data": {
      "application/vnd.jupyter.widget-view+json": {
       "model_id": "c17bd5ebcce041f3b957619e9519a8da",
       "version_major": 2,
       "version_minor": 0
      },
      "text/plain": [
       "0it [00:00, ?it/s]"
      ]
     },
     "metadata": {},
     "output_type": "display_data"
    }
   ],
   "source": [
    "\n",
    "# print('For age enter SuperSeniorCitizen:0, SeniorCitizen:1, MiddleAged:2, Youth:3, Teen:4')\n",
    "# print('For Gender Enter Male:0, Female:1')\n",
    "# print('For Family History Enter yes:1, No:0')\n",
    "# print('For diet Enter High:0, Medium:1')\n",
    "# print('for lifeStyle Enter Athlete:0, Active:1, Moderate:2, Sedentary:3')\n",
    "# print('for cholesterol Enter High:0, BorderLine:1, Normal:2')\n",
    "\n",
    "# q = HeartDisease_infer.query(variables=['heartdisease'], evidence={\n",
    "#     'age':int(input('enter age')),\n",
    "#     'Gender':int(input('enter Gender')),\n",
    "#     'Family':int(input('enter Family history')),\n",
    "#     'diet':int(input('enter diet')),\n",
    "#     'Lifestyle':int(input('enter Lifestyle')),\n",
    "#     'cholestrol':int(input('enter cholestrol'))\n",
    "#     })\n",
    "\n",
    "# # print(q['heartdisease'])\n",
    "# print(q)\n",
    "k = HeartDisease_infer.query(variables=['heartdisease'], evidence={'age':3,'Gender':0,'Family':1,'diet':1,'Lifestyle':3,'cholestrol':2})"
   ]
  },
  {
   "cell_type": "code",
   "execution_count": 250,
   "metadata": {},
   "outputs": [
    {
     "name": "stdout",
     "output_type": "stream",
     "text": [
      "+-----------------+---------------------+\n",
      "| heartdisease    |   phi(heartdisease) |\n",
      "+=================+=====================+\n",
      "| heartdisease(0) |              0.8333 |\n",
      "+-----------------+---------------------+\n",
      "| heartdisease(1) |              0.1667 |\n",
      "+-----------------+---------------------+\n"
     ]
    }
   ],
   "source": [
    "print(k)"
   ]
  },
  {
   "cell_type": "markdown",
   "metadata": {},
   "source": [
    "# Kmeans Guassian"
   ]
  },
  {
   "cell_type": "code",
   "execution_count": 251,
   "metadata": {},
   "outputs": [
    {
     "data": {
      "text/html": [
       "<div>\n",
       "<style scoped>\n",
       "    .dataframe tbody tr th:only-of-type {\n",
       "        vertical-align: middle;\n",
       "    }\n",
       "\n",
       "    .dataframe tbody tr th {\n",
       "        vertical-align: top;\n",
       "    }\n",
       "\n",
       "    .dataframe thead th {\n",
       "        text-align: right;\n",
       "    }\n",
       "</style>\n",
       "<table border=\"1\" class=\"dataframe\">\n",
       "  <thead>\n",
       "    <tr style=\"text-align: right;\">\n",
       "      <th></th>\n",
       "      <th>Driver_ID</th>\n",
       "      <th>Distance_Feature</th>\n",
       "      <th>Speeding_Feature</th>\n",
       "    </tr>\n",
       "  </thead>\n",
       "  <tbody>\n",
       "    <tr>\n",
       "      <th>0</th>\n",
       "      <td>3423311935</td>\n",
       "      <td>71.24</td>\n",
       "      <td>28</td>\n",
       "    </tr>\n",
       "    <tr>\n",
       "      <th>1</th>\n",
       "      <td>3423313212</td>\n",
       "      <td>52.53</td>\n",
       "      <td>25</td>\n",
       "    </tr>\n",
       "    <tr>\n",
       "      <th>2</th>\n",
       "      <td>3423313724</td>\n",
       "      <td>64.54</td>\n",
       "      <td>27</td>\n",
       "    </tr>\n",
       "    <tr>\n",
       "      <th>3</th>\n",
       "      <td>3423311373</td>\n",
       "      <td>55.69</td>\n",
       "      <td>22</td>\n",
       "    </tr>\n",
       "    <tr>\n",
       "      <th>4</th>\n",
       "      <td>3423310999</td>\n",
       "      <td>54.58</td>\n",
       "      <td>25</td>\n",
       "    </tr>\n",
       "  </tbody>\n",
       "</table>\n",
       "</div>"
      ],
      "text/plain": [
       "    Driver_ID  Distance_Feature  Speeding_Feature\n",
       "0  3423311935             71.24                28\n",
       "1  3423313212             52.53                25\n",
       "2  3423313724             64.54                27\n",
       "3  3423311373             55.69                22\n",
       "4  3423310999             54.58                25"
      ]
     },
     "execution_count": 251,
     "metadata": {},
     "output_type": "execute_result"
    }
   ],
   "source": [
    "import numpy as np\n",
    "import pandas as pd\n",
    "import matplotlib.pyplot as plt\n",
    "from sklearn.cluster import KMeans\n",
    "from sklearn.mixture import GaussianMixture\n",
    "\n",
    "# df1 = pd.read_csv(\"8.csv\")\n",
    "d2 = [['Driver_ID','Distance_Feature','Speeding_Feature'],\n",
    "[3423311935,71.24,28],\n",
    "[3423313212,52.53,25],\n",
    "[3423313724,64.54,27],\n",
    "[3423311373,55.69,22],\n",
    "[3423310999,54.58,25],\n",
    "[3423313857,41.91,10],\n",
    "[3423312432,58.64,20],\n",
    "[3423311434,52.02,8],\n",
    "[3423311328,31.25,34],\n",
    "[3423312488,44.31,19],\n",
    "[3423311254,49.35,40],\n",
    "[3423312943,58.07,45],\n",
    "[3423312536,44.22,22],\n",
    "[3423311542,55.73,19],\n",
    "[3423312176,46.63,43],\n",
    "[3423314176,52.97,32],\n",
    "[3423314202,46.25,35],\n",
    "[3423311346,51.55,27],\n",
    "[3423310666,57.05,26],\n",
    "[3423313527,58.45,30],\n",
    "[3423312182,43.42,23],\n",
    "[3423313590,55.68,37],\n",
    "[3423312268,55.15,18]]\n",
    "df2 = pd.DataFrame(d2[1:],columns=d2[0])\n",
    "df2.head()"
   ]
  },
  {
   "cell_type": "code",
   "execution_count": 252,
   "metadata": {},
   "outputs": [
    {
     "name": "stderr",
     "output_type": "stream",
     "text": [
      "c:\\Users\\yalla\\anaconda3\\lib\\site-packages\\sklearn\\utils\\validation.py:593: FutureWarning: np.matrix usage is deprecated in 1.0 and will raise a TypeError in 1.2. Please convert to a numpy array with np.asarray. For more information see: https://numpy.org/doc/stable/reference/generated/numpy.matrix.html\n",
      "  warnings.warn(\n",
      "c:\\Users\\yalla\\anaconda3\\lib\\site-packages\\sklearn\\utils\\validation.py:593: FutureWarning: np.matrix usage is deprecated in 1.0 and will raise a TypeError in 1.2. Please convert to a numpy array with np.asarray. For more information see: https://numpy.org/doc/stable/reference/generated/numpy.matrix.html\n",
      "  warnings.warn(\n",
      "c:\\Users\\yalla\\anaconda3\\lib\\site-packages\\sklearn\\utils\\validation.py:593: FutureWarning: np.matrix usage is deprecated in 1.0 and will raise a TypeError in 1.2. Please convert to a numpy array with np.asarray. For more information see: https://numpy.org/doc/stable/reference/generated/numpy.matrix.html\n",
      "  warnings.warn(\n"
     ]
    },
    {
     "data": {
      "image/png": "[encoded data removed]",
      "text/plain": [
       "<Figure size 432x288 with 3 Axes>"
      ]
     },
     "metadata": {
      "needs_background": "light"
     },
     "output_type": "display_data"
    }
   ],
   "source": [
    "f1 = df2['Distance_Feature'].values\n",
    "f2 = df2['Speeding_Feature'].values\n",
    "\n",
    "X = np.matrix(list(zip(f1,f2)))\n",
    "\n",
    "plt.plot(1)\n",
    "plt.subplot(511)\n",
    "plt.xlim([0, 100])\n",
    "plt.ylim([0, 50])\n",
    "plt.title('Dataset')\n",
    "plt.ylabel('speeding_feature')\n",
    "plt.xlabel('distance_feature')\n",
    "plt.scatter(f1,f2)\n",
    "\n",
    "\n",
    "colors = ['b', 'g', 'r']\n",
    "markers = ['o', 'v', 's']\n",
    "\n",
    "# create new plot and data for K- means algorithm\n",
    "plt.plot(2)\n",
    "ax = plt.subplot(513)\n",
    "kmeans_model = KMeans(n_clusters=3).fit(X)\n",
    "\n",
    "for i, l in enumerate(kmeans_model.labels_):\n",
    "    plt.plot(f1[i], f2[i], color=colors[l],marker=markers[l])\n",
    "    \n",
    "plt.xlim([0, 100])\n",
    "plt.ylim([0, 50])\n",
    "plt.title('K- Means')\n",
    "plt.ylabel('speeding_feature')\n",
    "plt.xlabel('distance_feature')\n",
    "\n",
    "# create new plot and data for gaussian mixture\n",
    "plt.plot(3)\n",
    "plt.subplot(515)\n",
    "gmm=GaussianMixture(n_components=3).fit(X)\n",
    "labels= gmm.predict(X)  \n",
    "\n",
    "for i, l in enumerate(labels):\n",
    "    plt.plot(f1[i], f2[i], color=colors[l], marker=markers[l])\n",
    "\n",
    "plt.xlim([0, 100])\n",
    "plt.ylim([0, 50])\n",
    "plt.title('Gaussian Mixture')\n",
    "plt.ylabel('speeding_feature')\n",
    "plt.xlabel('distance_feature')\n",
    "\n",
    "\n",
    "plt.show()"
   ]
  },
  {
   "cell_type": "markdown",
   "metadata": {},
   "source": [
    "# KNN"
   ]
  },
  {
   "cell_type": "code",
   "execution_count": 253,
   "metadata": {},
   "outputs": [
    {
     "data": {
      "text/plain": [
       "(150, 4)"
      ]
     },
     "execution_count": 253,
     "metadata": {},
     "output_type": "execute_result"
    }
   ],
   "source": [
    "from sklearn import datasets\n",
    "iris=datasets.load_iris()\n",
    "iris_data=iris.data\n",
    "iris_labels=iris.target\n",
    "iris.data.shape"
   ]
  },
  {
   "cell_type": "code",
   "execution_count": 254,
   "metadata": {},
   "outputs": [
    {
     "data": {
      "text/plain": [
       "(105, 45)"
      ]
     },
     "execution_count": 254,
     "metadata": {},
     "output_type": "execute_result"
    }
   ],
   "source": [
    "from sklearn.model_selection import train_test_split\n",
    "x_train,x_test,y_train,y_test=train_test_split(iris_data,iris_labels,test_size=0.30)\n",
    "x_train.shape[0],x_test.shape[0]"
   ]
  },
  {
   "cell_type": "code",
   "execution_count": 255,
   "metadata": {},
   "outputs": [
    {
     "data": {
      "text/plain": [
       "array([1, 2, 0, 1, 1, 2, 1, 1, 2, 2, 0, 1, 0, 2, 0, 1, 1, 2, 0, 2, 2, 2,\n",
       "       2, 2, 0, 0, 1, 0, 0, 1, 2, 0, 0, 1, 2, 0, 2, 0, 1, 0, 1, 2, 1, 1,\n",
       "       0])"
      ]
     },
     "execution_count": 255,
     "metadata": {},
     "output_type": "execute_result"
    }
   ],
   "source": [
    "from sklearn.neighbors import KNeighborsClassifier\n",
    "classifier=KNeighborsClassifier(n_neighbors=5) \n",
    "classifier.fit(x_train,y_train)\n",
    "y_pred=classifier.predict(x_test)\n",
    "y_pred"
   ]
  },
  {
   "cell_type": "code",
   "execution_count": 256,
   "metadata": {},
   "outputs": [
    {
     "name": "stdout",
     "output_type": "stream",
     "text": [
      "Confusion matrix is as follows\n",
      "[[15  0  0]\n",
      " [ 0 15  1]\n",
      " [ 0  0 14]]\n",
      "Accuracy Matrics\n",
      "              precision    recall  f1-score   support\n",
      "\n",
      "           0       1.00      1.00      1.00        15\n",
      "           1       1.00      0.94      0.97        16\n",
      "           2       0.93      1.00      0.97        14\n",
      "\n",
      "    accuracy                           0.98        45\n",
      "   macro avg       0.98      0.98      0.98        45\n",
      "weighted avg       0.98      0.98      0.98        45\n",
      "\n"
     ]
    }
   ],
   "source": [
    "from sklearn.metrics import classification_report,confusion_matrix\n",
    "print('Confusion matrix is as follows')\n",
    "print(confusion_matrix(y_test,y_pred))\n",
    "print('Accuracy Matrics')\n",
    "print(classification_report(y_test,y_pred))"
   ]
  }
 ],
 "metadata": {
  "kernelspec": {
   "display_name": "DS_Kernel",
   "language": "python",
   "name": "ds"
  },
  "language_info": {
   "codemirror_mode": {
    "name": "ipython",
    "version": 3
   },
   "file_extension": ".py",
   "mimetype": "text/x-python",
   "name": "python",
   "nbconvert_exporter": "python",
   "pygments_lexer": "ipython3",
   "version": "3.9.12"
  },
  "orig_nbformat": 4,
  "vscode": {
   "interpreter": {
    "hash": "662096348ab75530b8d632ded7aa4a72791428b3f20309da69257f25b5c13dd9"
   }
  }
 },
 "nbformat": 4,
 "nbformat_minor": 2
}
