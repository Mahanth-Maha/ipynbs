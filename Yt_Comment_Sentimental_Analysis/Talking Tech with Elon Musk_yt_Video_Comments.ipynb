{
  "cells": [
    {
      "cell_type": "markdown",
      "metadata": {},
      "source": [
        "# Youtube Comment Sentimental Analysis\n",
        "## Talking Tech with Elon Musk!\n"
      ]
    },
    {
      "cell_type": "code",
      "execution_count": 7,
      "metadata": {
        "id": "qJrmagGxfEVz"
      },
      "outputs": [],
      "source": [
        "from obsei.source import YoutubeScrapperSource, YoutubeScrapperConfig\n",
        "from obsei.analyzer.classification_analyzer import ClassificationAnalyzerConfig,ZeroShotClassificationAnalyzer"
      ]
    },
    {
      "cell_type": "code",
      "execution_count": 8,
      "metadata": {
        "id": "sx6Qm5Pvju72"
      },
      "outputs": [],
      "source": [
        "video_url = 'https://www.youtube.com/watch?v=MevKTPN4ozw'"
      ]
    },
    {
      "cell_type": "code",
      "execution_count": 9,
      "metadata": {
        "id": "M_A9z9e-qH_j"
      },
      "outputs": [
        {
          "name": "stderr",
          "output_type": "stream",
          "text": [
            "09/16/2022 13:13:59 - WARNING - obsei.misc.youtube_reviews_scrapper -   Unable to set sorting\n"
          ]
        },
        {
          "data": {
            "text/plain": [
              "([], 0)"
            ]
          },
          "execution_count": 9,
          "metadata": {},
          "output_type": "execute_result"
        }
      ],
      "source": [
        "source_config = YoutubeScrapperConfig(video_url= video_url,fetch_replies=False,max_comments=20,lookup_period=\"1Y\",)\n",
        "source = YoutubeScrapperSource()\n",
        "source_response_list = source.lookup(source_config)\n",
        "\n",
        "source_response_list,len(source_response_list)"
      ]
    },
    {
      "cell_type": "code",
      "execution_count": null,
      "metadata": {},
      "outputs": [],
      "source": []
    }
  ],
  "metadata": {
    "colab": {
      "name": "Download YouTube Comments NLP Sentiment Analysis",
      "provenance": []
    },
    "kernelspec": {
      "display_name": "DS_Kernel",
      "language": "python",
      "name": "ds"
    },
    "language_info": {
      "codemirror_mode": {
        "name": "ipython",
        "version": 3
      },
      "file_extension": ".py",
      "mimetype": "text/x-python",
      "name": "python",
      "nbconvert_exporter": "python",
      "pygments_lexer": "ipython3",
      "version": "3.9.12"
    },
    "vscode": {
      "interpreter": {
        "hash": "a075be670f002415fc65291a584e903cef0587159d6bdf77e827b87cdcbb0bd0"
      }
    }
  },
  "nbformat": 4,
  "nbformat_minor": 0
}
